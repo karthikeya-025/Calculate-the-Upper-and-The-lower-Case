{
 "cells": [
  {
   "cell_type": "code",
   "execution_count": 3,
   "id": "d573129d",
   "metadata": {},
   "outputs": [],
   "source": [
    "def no_of_alphs(string):\n",
    "    string = string.replace(\" \",\"\")\n",
    "    upper = 0\n",
    "    lower = 0\n",
    "    for i in string:\n",
    "        if i.islower() == True:\n",
    "            lower+=1\n",
    "        elif i.isupper()==True:\n",
    "            upper+=1\n",
    "    print(\"No. of Upper case characters :\",upper)\n",
    "    print(\"No. of Lower case Characters :\",lower)\n"
   ]
  },
  {
   "cell_type": "code",
   "execution_count": 4,
   "id": "6ffc1676",
   "metadata": {},
   "outputs": [
    {
     "name": "stdout",
     "output_type": "stream",
     "text": [
      "Enter any string :The quick Brow Fox\n",
      "No. of Upper case characters : 3\n",
      "No. of Lower case Characters : 12\n"
     ]
    }
   ],
   "source": [
    "input_str = str(input(\"Enter any string :\"))\n",
    "no_of_alphs(input_str)"
   ]
  }
 ],
 "metadata": {
  "kernelspec": {
   "display_name": "Python 3 (ipykernel)",
   "language": "python",
   "name": "python3"
  },
  "language_info": {
   "codemirror_mode": {
    "name": "ipython",
    "version": 3
   },
   "file_extension": ".py",
   "mimetype": "text/x-python",
   "name": "python",
   "nbconvert_exporter": "python",
   "pygments_lexer": "ipython3",
   "version": "3.10.9"
  }
 },
 "nbformat": 4,
 "nbformat_minor": 5
}
